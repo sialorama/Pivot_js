{
 "cells": [
  {
   "cell_type": "markdown",
   "id": "de04c007-09d6-4b63-bb74-508b5039bfdd",
   "metadata": {},
   "source": [
    "# PivotTableJS"
   ]
  },
  {
   "cell_type": "code",
   "execution_count": 3,
   "id": "a6872ae4-f407-40fc-8cd7-31fc9e80b600",
   "metadata": {},
   "outputs": [
    {
     "name": "stdout",
     "output_type": "stream",
     "text": [
      "Requirement already satisfied: pivottablejs in /home/jam/miniconda3/lib/python3.9/site-packages (0.9.0)\n"
     ]
    }
   ],
   "source": [
    "# ! pip install pivottablejs"
   ]
  },
  {
   "cell_type": "code",
   "execution_count": 4,
   "id": "5e843394-b113-4f5e-89ba-7a9693c0987a",
   "metadata": {},
   "outputs": [],
   "source": [
    "import pandas as pd\n",
    "from pivottablejs import pivot_ui"
   ]
  },
  {
   "cell_type": "code",
   "execution_count": 7,
   "id": "2feac303-73bc-496d-8003-7f22163fe3ec",
   "metadata": {},
   "outputs": [
    {
     "data": {
      "text/html": [
       "<div><div id=dc4a359e-4642-490d-b18f-3932d83e3bf7 style=\"display:none; background-color:#9D6CFF; color:white; width:200px; height:30px; padding-left:5px; border-radius:4px; flex-direction:row; justify-content:space-around; align-items:center;\" onmouseover=\"this.style.backgroundColor='#BA9BF8'\" onmouseout=\"this.style.backgroundColor='#9D6CFF'\" onclick=\"window.commands?.execute('create-mitosheet-from-dataframe-output');\">See Full Dataframe in Mito</div> <script> if (window.commands?.hasCommand('create-mitosheet-from-dataframe-output')) document.getElementById('dc4a359e-4642-490d-b18f-3932d83e3bf7').style.display = 'flex' </script> <table border=\"1\" class=\"dataframe\">\n",
       "  <thead>\n",
       "    <tr style=\"text-align: right;\">\n",
       "      <th></th>\n",
       "      <th>Name</th>\n",
       "      <th>Party</th>\n",
       "      <th>Province</th>\n",
       "      <th>Age</th>\n",
       "      <th>Gender</th>\n",
       "    </tr>\n",
       "  </thead>\n",
       "  <tbody>\n",
       "    <tr>\n",
       "      <th>0</th>\n",
       "      <td>Liu, Laurin</td>\n",
       "      <td>NDP</td>\n",
       "      <td>Quebec</td>\n",
       "      <td>22.0</td>\n",
       "      <td>Female</td>\n",
       "    </tr>\n",
       "    <tr>\n",
       "      <th>1</th>\n",
       "      <td>Mourani, Maria</td>\n",
       "      <td>Bloc Quebecois</td>\n",
       "      <td>Quebec</td>\n",
       "      <td>43.0</td>\n",
       "      <td>Female</td>\n",
       "    </tr>\n",
       "    <tr>\n",
       "      <th>2</th>\n",
       "      <td>Sellah, Djaouida</td>\n",
       "      <td>NDP</td>\n",
       "      <td>Quebec</td>\n",
       "      <td>NaN</td>\n",
       "      <td>Female</td>\n",
       "    </tr>\n",
       "    <tr>\n",
       "      <th>3</th>\n",
       "      <td>St-Denis, Lise</td>\n",
       "      <td>NDP</td>\n",
       "      <td>Quebec</td>\n",
       "      <td>72.0</td>\n",
       "      <td>Female</td>\n",
       "    </tr>\n",
       "    <tr>\n",
       "      <th>4</th>\n",
       "      <td>Fry, Hedy</td>\n",
       "      <td>Liberal</td>\n",
       "      <td>British Columbia</td>\n",
       "      <td>71.0</td>\n",
       "      <td>Female</td>\n",
       "    </tr>\n",
       "  </tbody>\n",
       "</table></div>"
      ],
      "text/plain": [
       "               Name           Party          Province   Age  Gender\n",
       "0       Liu, Laurin             NDP            Quebec  22.0  Female\n",
       "1    Mourani, Maria  Bloc Quebecois            Quebec  43.0  Female\n",
       "2  Sellah, Djaouida             NDP            Quebec   NaN  Female\n",
       "3    St-Denis, Lise             NDP            Quebec  72.0  Female\n",
       "4         Fry, Hedy         Liberal  British Columbia  71.0  Female"
      ]
     },
     "execution_count": 7,
     "metadata": {},
     "output_type": "execute_result"
    }
   ],
   "source": [
    "df = pd.read_csv(\"mps.csv\")\n",
    "df.head()"
   ]
  },
  {
   "cell_type": "code",
   "execution_count": 8,
   "id": "a9ebef47-9007-40c9-aadd-99e394703e29",
   "metadata": {},
   "outputs": [
    {
     "data": {
      "text/html": [
       "\n",
       "        <iframe\n",
       "            width=\"100%\"\n",
       "            height=\"500\"\n",
       "            src=\"pivottablejs.html\"\n",
       "            frameborder=\"0\"\n",
       "            allowfullscreen\n",
       "            \n",
       "        ></iframe>\n",
       "        "
      ],
      "text/plain": [
       "<IPython.lib.display.IFrame at 0x7f608924eee0>"
      ]
     },
     "execution_count": 8,
     "metadata": {},
     "output_type": "execute_result"
    }
   ],
   "source": [
    "pivot_ui(df)"
   ]
  },
  {
   "cell_type": "code",
   "execution_count": 9,
   "id": "61e6202a-b1b4-4d0d-8d6f-2008acefbacc",
   "metadata": {},
   "outputs": [
    {
     "data": {
      "text/html": [
       "\n",
       "        <iframe\n",
       "            width=\"100%\"\n",
       "            height=\"500\"\n",
       "            src=\"pivottablejs.html\"\n",
       "            frameborder=\"0\"\n",
       "            allowfullscreen\n",
       "            \n",
       "        ></iframe>\n",
       "        "
      ],
      "text/plain": [
       "<IPython.lib.display.IFrame at 0x7f6089207580>"
      ]
     },
     "execution_count": 9,
     "metadata": {},
     "output_type": "execute_result"
    },
    {
     "name": "stderr",
     "output_type": "stream",
     "text": [
      "error uploading: HTTPSConnectionPool(host='api.segment.io', port=443): Max retries exceeded with url: /v1/batch (Caused by NewConnectionError('<urllib3.connection.HTTPSConnection object at 0x7f6089170310>: Failed to establish a new connection: [Errno -2] Name or service not known'))\n"
     ]
    }
   ],
   "source": [
    "pivot_ui(df,      \n",
    "    cols= [\"Party\"],\n",
    "    rows= [\"Province\"],\n",
    "    rendererName= \"Horizontal Stacked Bar Chart\",\n",
    "    rowOrder= \"value_z_to_a\", \n",
    "    colOrder= \"value_z_to_a\",\n",
    "    rendererOptions= {\n",
    "        \"c3\": { \"data\": {\"colors\": {\n",
    "            \"Liberal\": '#dc3912', \"Conservative\": '#3366cc', \"NDP\": '#ff9900',\n",
    "            \"Green\":'#109618', 'Bloc Quebecois': '#990099'\n",
    "        }}}\n",
    "    }\n",
    ")"
   ]
  },
  {
   "cell_type": "code",
   "execution_count": null,
   "id": "b249cf28-a81f-4b56-a5de-1c44b981b73e",
   "metadata": {},
   "outputs": [],
   "source": []
  }
 ],
 "metadata": {
  "kernelspec": {
   "display_name": "Python 3 (ipykernel)",
   "language": "python",
   "name": "python3"
  },
  "language_info": {
   "codemirror_mode": {
    "name": "ipython",
    "version": 3
   },
   "file_extension": ".py",
   "mimetype": "text/x-python",
   "name": "python",
   "nbconvert_exporter": "python",
   "pygments_lexer": "ipython3",
   "version": "3.9.13"
  }
 },
 "nbformat": 4,
 "nbformat_minor": 5
}
